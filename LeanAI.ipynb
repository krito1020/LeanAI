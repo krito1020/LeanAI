
{
 "cells": [
  {
   "cell_type": "markdown",
   "metadata": {},
   "source": [
    "# 🦾 LeanAI – Preparación de Dataset y Embeddings en Google Colab
",
    "Este notebook te permite:
",
    "- Limpiar y validar tu archivo de preguntas/respuestas (Excel o CSV)
",
    "- Generar la columna `pregunta_limpia`
",
    "- Corregir filas mal formateadas
",
    "- Generar embeddings (para matching semántico)
",
    "- Descargar todo listo para usar en tu chatbot LeanAI"
   ]
  },
  {
   "cell_type": "code",
   "metadata": {},
   "source": [
    "# Instala las dependencias necesarias (solo la primera vez)
",
    "!pip install -q pandas openpyxl sentence-transformers"
   ],
   "execution_count": None,
   "outputs": []
  },
  {
   "cell_type": "markdown",
   "metadata": {},
   "source": [
    "## 📤 Sube aquí tus archivos"
   ]
  },
  {
   "cell_type": "code",
   "metadata": {},
   "source": [
    "from google.colab import files
",
    "import os
",
    "
",
    "print('Selecciona TODOS estos archivos para subirlos desde tu PC:')
",
    "print(' - FAQs_Ingelean.xlsx (obligatorio, Excel original)')
",
    "print(' - FAQs_Ingelean_Limpio.csv (opcional, si ya lo tienes)')
",
    "print(' - chatbot_model.pkl, tfidf_vectorizer.pkl (si quieres validar)')
",
    "uploaded = files.upload()"
   ],
   "execution_count": None,
   "outputs": []
  },
  {
   "cell_type": "markdown",
   "metadata": {},
   "source": [
    "## 🚦 Limpieza y validación del archivo Excel"
   ]
  },
  {
   "cell_type": "code",
   "metadata": {},
   "source": [
    "import pandas as pd
",
    "import re
",
    "from unicodedata import normalize
",
    "
",
    "# Leer el Excel original
",
    "excel_name = 'FAQs_Ingelean.xlsx'
",
    "csv_name = 'FAQs_Ingelean_Limpio.csv'
",
    "try:
",
    "    df = pd.read_excel(excel_name)
",
    "    print(f'Archivo Excel {excel_name} leído correctamente.')
",
    "except Exception as e:
",
    "    print(f'No se pudo leer el Excel: {e}')
",
    "    df = None
",
    "
",
    "# Mostrar columnas y primeras filas
",
    "if df is not None:
",
    "    print('Columnas:', list(df.columns))
",
    "    display(df.head())"
   ],
   "execution_count": None,
   "outputs": []
  },
  {
   "cell_type": "code",
   "metadata": {},
   "source": [
    "# Normaliza nombres de columnas
",
    "col_map = {}
",
    "for col in df.columns:
",
    "    if col.lower().startswith('cat'): col_map[col] = 'CATEGORIA'
",
    "    if col.lower().startswith('preg'): col_map[col] = 'PREGUNTA'
",
    "    if col.lower().startswith('resp'): col_map[col] = 'RESPUESTA'
",
    "df = df.rename(columns=col_map)
",
    "df = df[['CATEGORIA', 'PREGUNTA', 'RESPUESTA']]
",
    "
",
    "# Elimina filas completamente vacías
",
    "df = df.dropna(how='all')
",
    "print('Filas después de eliminar vacías:', len(df))
",
    "display(df.sample(3))"
   ],
   "execution_count": None,
   "outputs": []
  },
  {
   "cell_type": "code",
   "metadata": {},
   "source": [
    "# Genera pregunta_limpia
",
    "def clean_text(text):
",
    "    text = str(text).lower()
",
    "    text = normalize('NFKD', text).encode('ascii', 'ignore').decode('utf-8')
",
    "    text = re.sub(r'[^a-z0-9\s¿?]', '', text)
",
    "    text = re.sub(r'\s+', ' ', text).strip()
",
    "    return text
",
    "df['pregunta_limpia'] = df['PREGUNTA'].apply(clean_text)
",
    "print('Muestra de columna pregunta_limpia:')
",
    "display(df[['PREGUNTA','pregunta_limpia']].sample(3))"
   ],
   "execution_count": None,
   "outputs": []
  },
  {
   "cell_type": "markdown",
   "metadata": {},
   "source": [
    "### 🚧 Verifica si hay filas rotas (mal delimitadas)"
   ]
  },
  {
   "cell_type": "code",
   "metadata": {},
   "source": [
    "# Verifica filas mal formateadas al exportar a CSV (todas deben tener 4 columnas)
",
    "import csv
",
    "errores = []
",
    "with open(csv_name, 'w', encoding='utf-8', newline='') as f:
",
    "    writer = csv.writer(f)
",
    "    writer.writerow(df.columns)
",
    "    for i, row in df.iterrows():
",
    "        row_data = [row['CATEGORIA'], row['PREGUNTA'], row['RESPUESTA'], row['pregunta_limpia']]
",
    "        if any([',' in str(x) for x in row_data]):
",
    "            errores.append((i, row_data))
",
    "        writer.writerow(row_data)
",
    "if errores:
",
    "    print(f'ATENCIÓN: Hay {len(errores)} filas con comas en los textos. Revísalas si tu modelo falla.')
",
    "    display(pd.DataFrame([{'fila':i, 'data':data} for i,data in errores]).head())
",
    "else:
",
    "    print('Todas las filas están bien formateadas.')"
   ],
   "execution_count": None,
   "outputs": []
  },
  {
   "cell_type": "markdown",
   "metadata": {},
   "source": [
    "## 💾 Descarga el CSV limpio"
   ]
  },
  {
   "cell_type": "code",
   "metadata": {},
   "source": [
    "files.download(csv_name)"
   ],
   "execution_count": None,
   "outputs": []
  },
  {
   "cell_type": "markdown",
   "metadata": {},
   "source": [
    "## 🔥 Genera los embeddings para matching semántico"
   ]
  },
  {
   "cell_type": "code",
   "metadata": {},
   "source": [
    "from sentence_transformers import SentenceTransformer
",
    "import numpy as np
",
    "
",
    "model = SentenceTransformer('paraphrase-multilingual-MiniLM-L12-v2')
",
    "embeddings = model.encode(df['pregunta_limpia'].tolist(), convert_to_tensor=False)
",
    "np.save('faq_embeddings.npy', embeddings)
",
    "print('Embeddings generados:', embeddings.shape)"
   ],
   "execution_count": None,
   "outputs": []
  },
  {
   "cell_type": "markdown",
   "metadata": {},
   "source": [
    "## 💾 Descarga los embeddings (.npy)"
   ]
  },
  {
   "cell_type": "code",
   "metadata": {},
   "source": [
    "files.download('faq_embeddings.npy')"
   ],
   "execution_count": None,
   "outputs": []
  },
  {
   "cell_type": "markdown",
   "metadata": {},
   "source": [
    "## (Opcional) Valida tus modelos `.pkl`"
   ]
  },
  {
   "cell_type": "code",
   "metadata": {},
   "source": [
    "import joblib
",
    "try:
",
    "    m = joblib.load('chatbot_model.pkl')
",
    "    v = joblib.load('tfidf_vectorizer.pkl')
",
    "    print('Modelos .pkl cargados exitosamente.')
",
    "except Exception as e:
",
    "    print(f'No se pudieron cargar los modelos: {e}')"
   ],
   "execution_count": None,
   "outputs": []
  },
  {
   "cell_type": "markdown",
   "metadata": {},
   "source": [
    "---
",
    "# ✅ ¡Tus archivos están listos para LeanAI!
",
    "- FAQs_Ingelean_Limpio.csv
",
    "- faq_embeddings.npy
",
    "- chatbot_model.pkl (opcional, si quieres validar)
",
    "- tfidf_vectorizer.pkl (opcional)
",
    "
",
    "¡Súbelos a tu entorno de despliegue y tu chatbot funcionará perfectamente!"
   ]
  }
 ],
 "metadata": {
  "kernelspec": {
   "display_name": "Python 3",
   "language": "python",
   "name": "python3"
  },
  "language_info": {
   "name": "python",
   "version": "3.9"
  }
 },
 "nbformat": 4,
 "nbformat_minor": 5
}
